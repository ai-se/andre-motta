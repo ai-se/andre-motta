{
 "cells": [
  {
   "cell_type": "code",
   "execution_count": 1,
   "metadata": {},
   "outputs": [],
   "source": [
    "import pycosat\n",
    "import secrets\n",
    "import math\n",
    "import numpy as np"
   ]
  },
  {
   "cell_type": "code",
   "execution_count": 2,
   "metadata": {},
   "outputs": [],
   "source": [
    "file = open(\"Scrum.dimacs\")"
   ]
  },
  {
   "cell_type": "code",
   "execution_count": 3,
   "metadata": {},
   "outputs": [],
   "source": [
    "lines = file.readlines()"
   ]
  },
  {
   "cell_type": "code",
   "execution_count": 4,
   "metadata": {},
   "outputs": [],
   "source": [
    "names = []\n",
    "for line in lines[:124]:\n",
    "    names.append(line.split(' ')[2][:-1])"
   ]
  },
  {
   "cell_type": "code",
   "execution_count": 5,
   "metadata": {},
   "outputs": [],
   "source": [
    "dimacs = lines[125:]"
   ]
  },
  {
   "cell_type": "code",
   "execution_count": 6,
   "metadata": {},
   "outputs": [
    {
     "data": {
      "text/plain": [
       "255"
      ]
     },
     "execution_count": 6,
     "metadata": {},
     "output_type": "execute_result"
    }
   ],
   "source": [
    "len(dimacs)"
   ]
  },
  {
   "cell_type": "code",
   "execution_count": 7,
   "metadata": {},
   "outputs": [],
   "source": [
    "cnf = [[int(s)  for s in line.split(' ') if int(s) != 0] for line in dimacs]"
   ]
  },
  {
   "cell_type": "code",
   "execution_count": 8,
   "metadata": {},
   "outputs": [
    {
     "name": "stdout",
     "output_type": "stream",
     "text": [
      "100000\n"
     ]
    }
   ],
   "source": [
    "solutions = []\n",
    "i = 0\n",
    "for sol in pycosat.itersolve(cnf):\n",
    "    if i == 100000:\n",
    "        break\n",
    "    i += 1\n",
    "    solutions.append(sol)\n",
    "print(i)"
   ]
  },
  {
   "cell_type": "code",
   "execution_count": 9,
   "metadata": {},
   "outputs": [],
   "source": [
    "class Item:\n",
    "    def __init__(self, item):\n",
    "        self.r = -1\n",
    "        self.d = -1\n",
    "        self.theta = -1\n",
    "        self.item = item\n",
    "        self.features = sum(item)\n",
    "        self.totalcost = secrets.randbelow(100)\n",
    "        self.knowndefects = secrets.randbelow(100)\n",
    "        self.featuresused = secrets.randbelow(self.features)"
   ]
  },
  {
   "cell_type": "code",
   "execution_count": 10,
   "metadata": {},
   "outputs": [],
   "source": [
    "binary_solutions = [[1 if val > 0 else 0 for val in sol] for sol in solutions]\n",
    "\n",
    "items = [Item(item) for item in binary_solutions]\n",
    "max_features = -math.inf\n",
    "min_features = math.inf\n",
    "max_totalcost = -math.inf\n",
    "min_totalcost = math.inf\n",
    "max_known = -math.inf\n",
    "min_known = math.inf\n",
    "max_featuresused = -math.inf\n",
    "min_featuresused = math.inf\n",
    "\n",
    "for x in items:\n",
    "    if x.features > max_features:\n",
    "        max_features = x.features\n",
    "    if x.features < min_features:\n",
    "        min_features = x.features\n",
    "    if x.totalcost > max_totalcost:\n",
    "        max_totalcost = x.totalcost\n",
    "    if x.totalcost < min_totalcost:\n",
    "        min_totalcost = x.totalcost\n",
    "    if x.knowndefects > max_known:\n",
    "        max_known = x.knowndefects\n",
    "    if x.knowndefects < min_known:\n",
    "        min_known = x.knowndefects\n",
    "    if x.featuresused > max_featuresused:\n",
    "        max_featuresused = x.featuresused\n",
    "    if x.featuresused < min_featuresused:\n",
    "        min_featuresused = x.featuresused"
   ]
  },
  {
   "cell_type": "code",
   "execution_count": 11,
   "metadata": {},
   "outputs": [
    {
     "name": "stdout",
     "output_type": "stream",
     "text": [
      "0\n",
      "1\n",
      "2\n",
      "3\n",
      "4\n",
      "5\n",
      "6\n",
      "7\n",
      "8\n",
      "9\n"
     ]
    }
   ],
   "source": [
    "total_group = 10\n",
    "west = []\n",
    "east = []\n",
    "westItems = []\n",
    "eastItems = []\n",
    "rand = secrets.choice(items)\n",
    "max_r = -math.inf\n",
    "min_r = math.inf\n",
    "for x in items:\n",
    "    x.r = sum(x.item)\n",
    "    x.d = sum([a_i - b_i for a_i, b_i in zip(x.item, rand.item)])\n",
    "    if x.r > max_r:\n",
    "        max_r = x.r\n",
    "    if x.r < min_r:\n",
    "        min_r = x.r\n",
    "for x in items:\n",
    "    x.r = (x.r - min_r)/(max_r - min_r)\n",
    "R = set([r.r for r in items])\n",
    "for k in R:\n",
    "    g = [item for item in items if item.r == k]\n",
    "    g.sort(key=lambda x: x.d, reverse=True)\n",
    "    for i in range(len(g)):\n",
    "        g[i].theta = (2*math.pi*(i+1))/len(g)\n",
    "thk = max_r / total_group\n",
    "for a in range(total_group):\n",
    "    g = [i for i in items if (a*thk)<= i.r <= ((a+1)*thk)]\n",
    "    #print(a)\n",
    "    g.sort(key=lambda x: x.theta)\n",
    "    if len(g) > 0:\n",
    "        east.append(g[0])\n",
    "        west.append(g[len(g)-1])\n",
    "        for i in g:\n",
    "            if i.theta <= math.pi:\n",
    "                eastItems.append(i)\n",
    "            else:\n",
    "                westItems.append(i)"
   ]
  },
  {
   "cell_type": "code",
   "execution_count": 11,
   "metadata": {},
   "outputs": [],
   "source": [
    "def split_bin(items, total_group):\n",
    "    west = []\n",
    "    east = []\n",
    "    westItems = []\n",
    "    eastItems = []\n",
    "    rand = secrets.choice(items)\n",
    "    max_r = -math.inf\n",
    "    min_r = math.inf\n",
    "    for x in items:\n",
    "        x.r = sum(x.item)\n",
    "        x.d = sum([a_i - b_i for a_i, b_i in zip(x.item, rand.item)])\n",
    "        if x.r > max_r:\n",
    "            max_r = x.r\n",
    "        if x.r < min_r:\n",
    "            min_r = x.r\n",
    "    for x in items:\n",
    "        x.r = (x.r - min_r)/(max_r - min_r + 10**(-32))\n",
    "    R = set([r.r for r in items])\n",
    "    for k in R:\n",
    "        g = [item for item in items if item.r == k]\n",
    "        g.sort(key=lambda x: x.d, reverse=True)\n",
    "        for i in range(len(g)):\n",
    "            g[i].theta = (2*math.pi*(i+1))/len(g)\n",
    "    thk = max_r / total_group\n",
    "    for a in range(total_group):\n",
    "        g = [i for i in items if (a*thk)<= i.r <= ((a+1)*thk)]\n",
    "        #print(a)\n",
    "        g.sort(key=lambda x: x.theta)\n",
    "        if len(g) > 0:\n",
    "            east.append(g[0])\n",
    "            west.append(g[len(g)-1])\n",
    "            for i in g:\n",
    "                if i.theta <= math.pi:\n",
    "                    eastItems.append(i)\n",
    "                else:\n",
    "                    westItems.append(i)\n",
    "    return west, east, westItems, eastItems"
   ]
  },
  {
   "cell_type": "code",
   "execution_count": 12,
   "metadata": {},
   "outputs": [],
   "source": [
    "def better():\n",
    "    what = 1\n",
    "    return what"
   ]
  },
  {
   "cell_type": "code",
   "execution_count": 13,
   "metadata": {},
   "outputs": [],
   "source": [
    "from itertools import count\n",
    "\n",
    "class TreeNode:\n",
    "    _ids = count(0)\n",
    "\n",
    "    def __init__(self, east, west, east_node, west_node):\n",
    "        self.id = next(self._ids)\n",
    "        self.east = east\n",
    "        self.west = west\n",
    "        self.east_node = east_node\n",
    "        self.west_node = west_node\n"
   ]
  },
  {
   "cell_type": "code",
   "execution_count": 14,
   "metadata": {},
   "outputs": [],
   "source": [
    "def sway(items, enough):\n",
    "    if len(items) < enough:\n",
    "        return TreeNode(items, None, None, None)\n",
    "    delta1, delta2 = [], []\n",
    "    west, east, west_items, east_items = split_bin(items, 10)\n",
    "    east_node = sway(east_items, enough)\n",
    "    west_node = sway(west_items,enough)\n",
    "    node = TreeNode(east, west, east_node, west_node)\n",
    "    return node"
   ]
  },
  {
   "cell_type": "code",
   "execution_count": 15,
   "metadata": {},
   "outputs": [],
   "source": [
    "tree = sway(items, 100)"
   ]
  },
  {
   "cell_type": "code",
   "execution_count": 16,
   "metadata": {},
   "outputs": [
    {
     "ename": "NameError",
     "evalue": "name 'difference' is not defined",
     "output_type": "error",
     "traceback": [
      "\u001b[1;31m---------------------------------------------------------------------------\u001b[0m",
      "\u001b[1;31mNameError\u001b[0m                                 Traceback (most recent call last)",
      "\u001b[1;32m<ipython-input-16-15c48930f543>\u001b[0m in \u001b[0;36m<module>\u001b[1;34m\u001b[0m\n\u001b[1;32m----> 1\u001b[1;33m \u001b[0mdifference\u001b[0m\u001b[1;33m(\u001b[0m\u001b[0mtree\u001b[0m\u001b[1;33m.\u001b[0m\u001b[0mwest\u001b[0m\u001b[1;33m[\u001b[0m\u001b[1;36m0\u001b[0m\u001b[1;33m]\u001b[0m\u001b[1;33m,\u001b[0m \u001b[0mtree\u001b[0m\u001b[1;33m.\u001b[0m\u001b[0meast\u001b[0m\u001b[1;33m[\u001b[0m\u001b[1;36m0\u001b[0m\u001b[1;33m]\u001b[0m\u001b[1;33m)\u001b[0m\u001b[1;33m\u001b[0m\u001b[1;33m\u001b[0m\u001b[0m\n\u001b[0m",
      "\u001b[1;31mNameError\u001b[0m: name 'difference' is not defined"
     ]
    }
   ],
   "source": [
    "difference(tree.west[0], tree.east[0])"
   ]
  },
  {
   "cell_type": "code",
   "execution_count": null,
   "metadata": {},
   "outputs": [],
   "source": [
    "def difference(west, east):\n",
    "    w = np.array(west.item)\n",
    "    e = np.array(east.item)\n",
    "    res = np.logical_xor(w, e)\n",
    "    res = np.logical_not(res)\n",
    "    return (len(res) - np.sum(res))"
   ]
  },
  {
   "cell_type": "code",
   "execution_count": null,
   "metadata": {},
   "outputs": [],
   "source": [
    "def bfs(tree, treshold):\n",
    "    # maintain a queue of paths\n",
    "    queue = []\n",
    "    # push the first path into the queue\n",
    "    queue.append([tree])\n",
    "    smallest_diff = 150\n",
    "    while queue:\n",
    "        # get the first path from the queue\n",
    "        path = queue.pop(0)\n",
    "        path_id = [x.id for x in path]\n",
    "        # get the last node from the path\n",
    "        #import pdb; pdb.set_trace()\n",
    "        node = path[-1]\n",
    "        if(node.west):\n",
    "            diff = difference(node.west[0], node.east[0])\n",
    "            #print(diff)\n",
    "            # path found\n",
    "            if diff < smallest_diff:\n",
    "                smallest_diff = diff\n",
    "            #checks to find question.\n",
    "            if diff <= treshold:\n",
    "                return path_id, node\n",
    "            # enumerate all adjacent nodes, construct a new path and push it into the queue\n",
    "            neighbors = []\n",
    "            if(node.west_node):\n",
    "                neighbors.append(node.west_node)\n",
    "            if(node.east_node):\n",
    "                neighbors.append(node.east_node)\n",
    "            for adjacent in neighbors:\n",
    "                new_path = list(path)\n",
    "                new_path.append(adjacent)\n",
    "                queue.append(new_path)\n",
    "            \n",
    "        \n",
    "    print(\"Couldnt find\", smallest_diff, path_id)"
   ]
  },
  {
   "cell_type": "code",
   "execution_count": null,
   "metadata": {},
   "outputs": [],
   "source": [
    "bfs(tree, 10)"
   ]
  },
  {
   "cell_type": "code",
   "execution_count": null,
   "metadata": {},
   "outputs": [],
   "source": [
    "def prLevel(root): \n",
    "  \n",
    "    if (not root): \n",
    "        return\n",
    "  \n",
    "    # queue to hold tree node with level \n",
    "    q = []  \n",
    "  \n",
    "    # let root node be at level 1 \n",
    "    q.append([root, 1]) \n",
    "  \n",
    "    p = [] \n",
    "  \n",
    "    # Do level Order Traversal of tree \n",
    "    while (len(q)):  \n",
    "        p = q[0] \n",
    "        q.pop(0) \n",
    "        #print(\"Level of\", p[0].id, \"is\", p[1]) \n",
    "        if (p[0].west_node): \n",
    "            q.append([p[0].west_node, p[1] + 1]) \n",
    "        if (p[0].east_node): \n",
    "            q.append([p[0].east_node, p[1] + 1 ]) "
   ]
  },
  {
   "cell_type": "code",
   "execution_count": null,
   "metadata": {},
   "outputs": [],
   "source": [
    "prLevel(tree)"
   ]
  },
  {
   "cell_type": "code",
   "execution_count": null,
   "metadata": {},
   "outputs": [],
   "source": [
    "def rankFeatures(items):\n",
    "    count = np.zeros(len(items[0].item))\n",
    "    for item in items:\n",
    "        count = np.add(count, item.item)\n",
    "    rank = np.zeros(len(count))\n",
    "    for i, v in enumerate(count):\n",
    "        if v == 0:\n",
    "            rank[i] = -1\n",
    "            print(\"No\", names[i])\n",
    "        if v == (len(items)):\n",
    "            rank[i] = -1\n",
    "            print(\"All\", names[i])\n",
    "    return count, rank"
   ]
  },
  {
   "cell_type": "code",
   "execution_count": null,
   "metadata": {},
   "outputs": [],
   "source": [
    "len(items)"
   ]
  },
  {
   "cell_type": "code",
   "execution_count": null,
   "metadata": {},
   "outputs": [],
   "source": [
    "count, rank = rankFeatures(items)"
   ]
  },
  {
   "cell_type": "code",
   "execution_count": null,
   "metadata": {},
   "outputs": [],
   "source": []
  },
  {
   "cell_type": "code",
   "execution_count": null,
   "metadata": {},
   "outputs": [],
   "source": [
    "for i, r in enumerate(rank):\n",
    "    if r == 0:\n",
    "        print(names[i])\n",
    "print(len(rank))"
   ]
  },
  {
   "cell_type": "code",
   "execution_count": null,
   "metadata": {},
   "outputs": [],
   "source": []
  }
 ],
 "metadata": {
  "kernelspec": {
   "display_name": "Python 3",
   "language": "python",
   "name": "python3"
  },
  "language_info": {
   "codemirror_mode": {
    "name": "ipython",
    "version": 3
   },
   "file_extension": ".py",
   "mimetype": "text/x-python",
   "name": "python",
   "nbconvert_exporter": "python",
   "pygments_lexer": "ipython3",
   "version": "3.7.3"
  }
 },
 "nbformat": 4,
 "nbformat_minor": 4
}
