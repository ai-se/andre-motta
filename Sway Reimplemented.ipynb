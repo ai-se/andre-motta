{
 "cells": [
  {
   "cell_type": "code",
   "execution_count": 2,
   "metadata": {},
   "outputs": [],
   "source": [
    "import pycosat\n",
    "import secrets\n",
    "import math\n",
    "import numpy as np\n",
    "# import pandas\n",
    "import pandas as pd\n",
    "# import matplotlib\n",
    "import matplotlib.pyplot as plt\n",
    "# import seaborn\n",
    "import seaborn as sns\n",
    "%matplotlib inline"
   ]
  },
  {
   "cell_type": "code",
   "execution_count": 6,
   "metadata": {},
   "outputs": [],
   "source": [
    "file = open(\"Scrum.dimacs\")"
   ]
  },
  {
   "cell_type": "code",
   "execution_count": 7,
   "metadata": {},
   "outputs": [],
   "source": [
    "lines = file.readlines()"
   ]
  },
  {
   "cell_type": "code",
   "execution_count": 4,
   "metadata": {},
   "outputs": [],
   "source": [
    "names = []\n",
    "for line in lines[:124]:\n",
    "    names.append(line.split(' ')[2][:-1])"
   ]
  },
  {
   "cell_type": "code",
   "execution_count": 5,
   "metadata": {},
   "outputs": [],
   "source": [
    "dimacs = lines[125:]"
   ]
  },
  {
   "cell_type": "code",
   "execution_count": 6,
   "metadata": {},
   "outputs": [
    {
     "data": {
      "text/plain": [
       "255"
      ]
     },
     "execution_count": 6,
     "metadata": {},
     "output_type": "execute_result"
    }
   ],
   "source": [
    "len(dimacs)"
   ]
  },
  {
   "cell_type": "code",
   "execution_count": 7,
   "metadata": {},
   "outputs": [],
   "source": [
    "cnf = [[int(s)  for s in line.split(' ') if int(s) != 0] for line in dimacs]"
   ]
  },
  {
   "cell_type": "code",
   "execution_count": 8,
   "metadata": {},
   "outputs": [
    {
     "name": "stdout",
     "output_type": "stream",
     "text": [
      "10000\n"
     ]
    }
   ],
   "source": [
    "solutions = []\n",
    "i = 0\n",
    "for sol in pycosat.itersolve(cnf):\n",
    "    if i == 10000:\n",
    "        break\n",
    "    i += 1\n",
    "    solutions.append(sol)\n",
    "print(i)"
   ]
  },
  {
   "cell_type": "code",
   "execution_count": 9,
   "metadata": {},
   "outputs": [],
   "source": [
    "class Item:\n",
    "    def __init__(self, item):\n",
    "        self.r = -1\n",
    "        self.d = -1\n",
    "        self.theta = -1\n",
    "        self.item = item\n",
    "        self.features = sum(item)\n",
    "        self.totalcost = secrets.randbelow(100)\n",
    "        self.knowndefects = secrets.randbelow(100)\n",
    "        self.featuresused = secrets.randbelow(self.features)"
   ]
  },
  {
   "cell_type": "code",
   "execution_count": 10,
   "metadata": {},
   "outputs": [],
   "source": [
    "binary_solutions = [[1 if val > 0 else 0 for val in sol] for sol in solutions]\n",
    "\n",
    "items = [Item(item) for item in binary_solutions]\n",
    "max_features = -math.inf\n",
    "min_features = math.inf\n",
    "max_totalcost = -math.inf\n",
    "min_totalcost = math.inf\n",
    "max_known = -math.inf\n",
    "min_known = math.inf\n",
    "max_featuresused = -math.inf\n",
    "min_featuresused = math.inf\n",
    "\n",
    "for x in items:\n",
    "    if x.features > max_features:\n",
    "        max_features = x.features\n",
    "    if x.features < min_features:\n",
    "        min_features = x.features\n",
    "    if x.totalcost > max_totalcost:\n",
    "        max_totalcost = x.totalcost\n",
    "    if x.totalcost < min_totalcost:\n",
    "        min_totalcost = x.totalcost\n",
    "    if x.knowndefects > max_known:\n",
    "        max_known = x.knowndefects\n",
    "    if x.knowndefects < min_known:\n",
    "        min_known = x.knowndefects\n",
    "    if x.featuresused > max_featuresused:\n",
    "        max_featuresused = x.featuresused\n",
    "    if x.featuresused < min_featuresused:\n",
    "        min_featuresused = x.featuresused"
   ]
  },
  {
   "cell_type": "code",
   "execution_count": 11,
   "metadata": {},
   "outputs": [],
   "source": [
    "def split_bin(items, total_group):\n",
    "    west = []\n",
    "    east = []\n",
    "    westItems = []\n",
    "    eastItems = []\n",
    "    rand = secrets.choice(items)\n",
    "    max_r = -math.inf\n",
    "    min_r = math.inf\n",
    "    for x in items:\n",
    "        x.r = sum(x.item)\n",
    "        x.d = sum([a_i - b_i for a_i, b_i in zip(x.item, rand.item)])\n",
    "        if x.r > max_r:\n",
    "            max_r = x.r\n",
    "        if x.r < min_r:\n",
    "            min_r = x.r\n",
    "    for x in items:\n",
    "        x.r = (x.r - min_r)/(max_r - min_r + 10**(-32))\n",
    "    R = set([r.r for r in items])\n",
    "    for k in R:\n",
    "        g = [item for item in items if item.r == k]\n",
    "        g.sort(key=lambda x: x.d, reverse=True)\n",
    "        for i in range(len(g)):\n",
    "            g[i].theta = (2*math.pi*(i+1))/len(g)\n",
    "    thk = max_r / total_group\n",
    "    for a in range(total_group):\n",
    "        g = [i for i in items if (a*thk)<= i.r <= ((a+1)*thk)]\n",
    "        #print(a)\n",
    "        g.sort(key=lambda x: x.theta)\n",
    "        if len(g) > 0:\n",
    "            east.append(g[0])\n",
    "            west.append(g[len(g)-1])\n",
    "            for i in g:\n",
    "                if i.theta <= math.pi:\n",
    "                    eastItems.append(i)\n",
    "                else:\n",
    "                    westItems.append(i)\n",
    "    return west, east, westItems, eastItems"
   ]
  },
  {
   "cell_type": "code",
   "execution_count": 12,
   "metadata": {},
   "outputs": [],
   "source": [
    "from itertools import count\n",
    "\n",
    "class TreeNode:\n",
    "    _ids = count(0)\n",
    "\n",
    "    def __init__(self, east, west, east_node, west_node):\n",
    "        self.id = next(self._ids)\n",
    "        self.east = east\n",
    "        self.west = west\n",
    "        self.east_node = east_node\n",
    "        self.west_node = west_node\n",
    "        self.score = 0\n"
   ]
  },
  {
   "cell_type": "code",
   "execution_count": 13,
   "metadata": {},
   "outputs": [],
   "source": [
    "def sway(items, enough):\n",
    "    if len(items) < enough:\n",
    "        return TreeNode(items, None, None, None)\n",
    "    delta1, delta2 = [], []\n",
    "    west, east, west_items, east_items = split_bin(items, 10)\n",
    "    east_node = sway(east_items, enough)\n",
    "    west_node = sway(west_items,enough)\n",
    "    node = TreeNode(east, west, east_node, west_node)\n",
    "    return node"
   ]
  },
  {
   "cell_type": "code",
   "execution_count": 14,
   "metadata": {},
   "outputs": [],
   "source": [
    "tree = sway(items, 100)"
   ]
  },
  {
   "cell_type": "code",
   "execution_count": 15,
   "metadata": {},
   "outputs": [],
   "source": [
    "def difference(west, east):\n",
    "    w = np.array(west.item)\n",
    "    e = np.array(east.item)\n",
    "    res = np.logical_xor(w, e)\n",
    "    return np.sum(res)"
   ]
  },
  {
   "cell_type": "code",
   "execution_count": 16,
   "metadata": {},
   "outputs": [],
   "source": [
    "def diff_array(west, east):\n",
    "    w = np.array(west.item)\n",
    "    e = np.array(east.item)\n",
    "    res = np.logical_xor(w, e)\n",
    "    return res"
   ]
  },
  {
   "cell_type": "code",
   "execution_count": 17,
   "metadata": {},
   "outputs": [],
   "source": [
    "def level_rank_features(root): \n",
    "    if (not root): \n",
    "        return\n",
    "    items_rank = np.zeros(len(root.west[0].item))\n",
    "    # queue to hold tree node with level \n",
    "    q = []  \n",
    "  \n",
    "    # let root node be at level 1 \n",
    "    q.append([root, 1]) \n",
    "  \n",
    "    p = [] \n",
    "  \n",
    "    # Do level Order Traversal of tree \n",
    "    while (len(q)):  \n",
    "        p = q[0] \n",
    "        q.pop(0)\n",
    "        if(p[0].west != None and p[0].east != None):\n",
    "            diff = diff_array(p[0].west[0], p[0].east[0])\n",
    "            for i, d in enumerate(diff):\n",
    "                if d == True and items_rank[i] == 0.0:\n",
    "                    items_rank[i] = p[1]\n",
    "        if (p[0].west_node): \n",
    "            q.append([p[0].west_node, p[1] + 1]) \n",
    "        if (p[0].east_node): \n",
    "            q.append([p[0].east_node, p[1] + 1 ]) \n",
    "    return items_rank"
   ]
  },
  {
   "cell_type": "code",
   "execution_count": 39,
   "metadata": {},
   "outputs": [],
   "source": [
    "def rank_nodes(root, rank):\n",
    "    if (not root): \n",
    "        return\n",
    "    largest = -100000000\n",
    "    # queue to hold tree node with level \n",
    "    q = []  \n",
    "    # let root node be at level 1 \n",
    "    q.append([root, 1]) \n",
    "    p = [] \n",
    "    # Do level Order Traversal of tree \n",
    "    while (len(q)):  \n",
    "        p = q[0] \n",
    "        q.pop(0)\n",
    "        if(p[0].west != None and p[0].east != None):\n",
    "            diff = diff_array(p[0].west[0], p[0].east[0])\n",
    "            res = np.multiply(diff, rank)\n",
    "            p[0].score = np.sum(res)\n",
    "            if p[0].score > largest:\n",
    "                largest = p[0].score\n",
    "        if (p[0].west_node): \n",
    "            q.append([p[0].west_node, p[1] + 1]) \n",
    "        if (p[0].east_node): \n",
    "            q.append([p[0].east_node, p[1] + 1 ]) \n",
    "    return largest"
   ]
  },
  {
   "cell_type": "code",
   "execution_count": 40,
   "metadata": {},
   "outputs": [],
   "source": [
    "rank = level_rank_features(tree)"
   ]
  },
  {
   "cell_type": "code",
   "execution_count": 41,
   "metadata": {},
   "outputs": [],
   "source": [
    "largest = rank_nodes(tree, rank)"
   ]
  },
  {
   "cell_type": "code",
   "execution_count": 52,
   "metadata": {},
   "outputs": [
    {
     "data": {
      "text/plain": [
       "22.0"
      ]
     },
     "execution_count": 52,
     "metadata": {},
     "output_type": "execute_result"
    }
   ],
   "source": [
    "largest"
   ]
  },
  {
   "cell_type": "code",
   "execution_count": 43,
   "metadata": {},
   "outputs": [
    {
     "data": {
      "text/plain": [
       "11.0"
      ]
     },
     "execution_count": 43,
     "metadata": {},
     "output_type": "execute_result"
    }
   ],
   "source": [
    "tree.score"
   ]
  },
  {
   "cell_type": "code",
   "execution_count": 33,
   "metadata": {},
   "outputs": [],
   "source": [
    "def bfs(tree, largest):\n",
    "    # maintain a queue of paths\n",
    "    queue = []\n",
    "    # push the first path into the queue\n",
    "    queue.append([tree])\n",
    "    while queue:\n",
    "        # get the first path from the queue\n",
    "        path = queue.pop(0)\n",
    "        path_id = [x.id for x in path]\n",
    "        # get the last node from the path\n",
    "        #import pdb; pdb.set_trace()\n",
    "        node = path[-1]\n",
    "        if(node.west):\n",
    "            #print(diff)\n",
    "            # path found\n",
    "            if largest == node.score:\n",
    "                return path_id, node\n",
    "            # enumerate all adjacent nodes, construct a new path and push it into the queue\n",
    "            neighbors = []\n",
    "            if(node.west_node):\n",
    "                neighbors.append(node.west_node)\n",
    "            if(node.east_node):\n",
    "                neighbors.append(node.east_node)\n",
    "            for adjacent in neighbors:\n",
    "                new_path = list(path)\n",
    "                new_path.append(adjacent)\n",
    "                queue.append(new_path)\n"
   ]
  },
  {
   "cell_type": "code",
   "execution_count": 58,
   "metadata": {},
   "outputs": [
    {
     "data": {
      "text/plain": [
       "([254, 253, 189, 157], <__main__.TreeNode at 0x197e5cb5dd8>)"
      ]
     },
     "execution_count": 58,
     "metadata": {},
     "output_type": "execute_result"
    }
   ],
   "source": [
    "bfs(tree, largest)"
   ]
  },
  {
   "cell_type": "code",
   "execution_count": 56,
   "metadata": {},
   "outputs": [],
   "source": [
    "path, node = bfs(tree, largest)"
   ]
  },
  {
   "cell_type": "code",
   "execution_count": 57,
   "metadata": {},
   "outputs": [
    {
     "data": {
      "text/plain": [
       "22.0"
      ]
     },
     "execution_count": 57,
     "metadata": {},
     "output_type": "execute_result"
    }
   ],
   "source": [
    "node.score"
   ]
  },
  {
   "cell_type": "code",
   "execution_count": 38,
   "metadata": {},
   "outputs": [
    {
     "data": {
      "text/plain": [
       "array([0., 0., 0., 0., 0., 0., 0., 0., 0., 0., 0., 0., 0., 0., 0., 0., 0.,\n",
       "       0., 0., 0., 0., 0., 0., 0., 0., 0., 0., 0., 0., 0., 0., 0., 0., 0.,\n",
       "       0., 0., 0., 0., 0., 0., 0., 0., 0., 0., 0., 0., 0., 0., 0., 0., 0.,\n",
       "       0., 0., 0., 0., 0., 0., 0., 0., 0., 0., 0., 0., 0., 0., 0., 0., 0.,\n",
       "       0., 0., 0., 0., 0., 0., 0., 0., 0., 0., 0., 0., 0., 0., 0., 0., 0.,\n",
       "       0., 0., 0., 0., 0., 0., 0., 0., 0., 0., 1., 0., 2., 0., 1., 0., 1.,\n",
       "       0., 2., 3., 0., 2., 0., 3., 3., 0., 2., 0., 1., 1., 0., 1., 0., 1.,\n",
       "       1., 1., 1., 1., 0.])"
      ]
     },
     "execution_count": 38,
     "metadata": {},
     "output_type": "execute_result"
    }
   ],
   "source": [
    "rank"
   ]
  },
  {
   "cell_type": "code",
   "execution_count": 60,
   "metadata": {},
   "outputs": [
    {
     "data": {
      "text/plain": [
       "14"
      ]
     },
     "execution_count": 60,
     "metadata": {},
     "output_type": "execute_result"
    }
   ],
   "source": [
    "diff_array(node.west[0], node.east[0])"
   ]
  },
  {
   "cell_type": "code",
   "execution_count": 23,
   "metadata": {},
   "outputs": [],
   "source": [
    "def prLevel(root): \n",
    "    tree_lvl = []\n",
    "    if (not root): \n",
    "        return\n",
    "  \n",
    "    # queue to hold tree node with level \n",
    "    q = []  \n",
    "  \n",
    "    # let root node be at level 1 \n",
    "    q.append([root, 1]) \n",
    "  \n",
    "    p = [] \n",
    "  \n",
    "    # Do level Order Traversal of tree \n",
    "    while (len(q)):  \n",
    "        p = q[0] \n",
    "        q.pop(0)\n",
    "        if(p[0].west != None and p[0].east != None):\n",
    "            tree_lvl.append((p[1], difference(p[0].west[0], p[0].east[0]))) \n",
    "        if (p[0].west_node): \n",
    "            q.append([p[0].west_node, p[1] + 1]) \n",
    "        if (p[0].east_node): \n",
    "            q.append([p[0].east_node, p[1] + 1 ]) \n",
    "    return tree_lvl"
   ]
  },
  {
   "cell_type": "code",
   "execution_count": null,
   "metadata": {},
   "outputs": [],
   "source": [
    "tree_data = prLevel(tree)"
   ]
  },
  {
   "cell_type": "code",
   "execution_count": null,
   "metadata": {},
   "outputs": [],
   "source": [
    "x, cl = [], []\n",
    "for cls, xs in tree_data:\n",
    "    x.append(xs)\n",
    "    cl.append(cls-1)\n",
    "    "
   ]
  },
  {
   "cell_type": "code",
   "execution_count": null,
   "metadata": {},
   "outputs": [],
   "source": [
    "d = {'Depth':cl,'Difference':x}\n",
    "df = pd.DataFrame(d)\n",
    "df.head()"
   ]
  },
  {
   "cell_type": "code",
   "execution_count": null,
   "metadata": {},
   "outputs": [],
   "source": [
    "df = df.where(df['Depth']!= 0)"
   ]
  },
  {
   "cell_type": "code",
   "execution_count": null,
   "metadata": {},
   "outputs": [],
   "source": [
    "ax = sns.boxplot(x=\"Depth\", y=\"Difference\", data=df)"
   ]
  },
  {
   "cell_type": "code",
   "execution_count": null,
   "metadata": {},
   "outputs": [],
   "source": [
    "from collections import defaultdict\n",
    "d = defaultdict(list)\n",
    "for cls, x in tree_data:\n",
    "    d[cls].append(x)\n",
    "    "
   ]
  },
  {
   "cell_type": "code",
   "execution_count": null,
   "metadata": {},
   "outputs": [],
   "source": [
    "d"
   ]
  },
  {
   "cell_type": "code",
   "execution_count": null,
   "metadata": {},
   "outputs": [],
   "source": [
    "def rankFeatures(items):\n",
    "    count = np.zeros(len(items[0].item))\n",
    "    for item in items:\n",
    "        count = np.add(count, item.item)\n",
    "    rank = np.zeros(len(count))\n",
    "    for i, v in enumerate(count):\n",
    "        if v == 0:\n",
    "            rank[i] = -1\n",
    "            print(\"No\", names[i])\n",
    "        if v == (len(items)):\n",
    "            rank[i] = -1\n",
    "            print(\"All\", names[i])\n",
    "    return count, rank"
   ]
  },
  {
   "cell_type": "code",
   "execution_count": null,
   "metadata": {},
   "outputs": [],
   "source": [
    "len(items)"
   ]
  },
  {
   "cell_type": "code",
   "execution_count": null,
   "metadata": {},
   "outputs": [],
   "source": [
    "count, rank = rankFeatures(items)"
   ]
  },
  {
   "cell_type": "code",
   "execution_count": null,
   "metadata": {},
   "outputs": [],
   "source": [
    "for i, r in enumerate(rank):\n",
    "    if r == 0:\n",
    "        print(names[i])\n",
    "print(len(rank))"
   ]
  },
  {
   "cell_type": "code",
   "execution_count": 18,
   "metadata": {},
   "outputs": [],
   "source": [
    "df = pd.read_csv('terms_sentence_map.csv')"
   ]
  },
  {
   "cell_type": "code",
   "execution_count": 23,
   "metadata": {},
   "outputs": [
    {
     "data": {
      "text/plain": [
       "[' Effort estimate based on the experience of the professionals',\n",
       " ' 5 minute sprint review meeting',\n",
       " ' Presence on scrum meetings required',\n",
       " ' 8 hours sprint review day',\n",
       " ' Only the Product Owner does prioritization',\n",
       " ' 17 day sprint',\n",
       " ' Option for virtual presence on daily meetings',\n",
       " ' Progress by product backlog id',\n",
       " ' Physical presence on scrum meetings required',\n",
       " ' Effort estimate based on the Development Team that takes the role of Scrum Master',\n",
       " ' Daily meeting every day',\n",
       " ' 21 day sprint',\n",
       " ' How to classify the status of an item in the Sprint Backlog',\n",
       " ' Effort estimate based on story points and points of value',\n",
       " ' 6 to 8 developers in team size',\n",
       " ' Option for virtual presence on daily meetings',\n",
       " ' Activity 6 of the Product owner',\n",
       " ' Activity 5 of the Product owner',\n",
       " ' The Roles used in this scrum adaptation',\n",
       " ' Activity 4 of the Product owner',\n",
       " ' Activity 3 of the Product owner',\n",
       " ' Activity 2 of the Product owner',\n",
       " ' Two Product owners for the project',\n",
       " ' Activity 1 of the Product owner',\n",
       " ' Definitions of the Product and Sprint backlog',\n",
       " ' Daily meeting more than once a day',\n",
       " ' 15 to 35 minutes Daily meeting',\n",
       " ' Progress by estimated time',\n",
       " ' Definitions of the Sprint',\n",
       " ' Definitions of the Sprint Planning ',\n",
       " ' Status Option for an item on the Sprint Backlog',\n",
       " ' Definitions for the Review Planning meeting',\n",
       " ' Definitions for effort estimates on the Product Backlog',\n",
       " ' Who selects the items on the Sprint Backlog and allocates them',\n",
       " ' One Product owner for the project',\n",
       " ' Daily meeting twice a week',\n",
       " ' 9 developers in team size',\n",
       " ' Definitions of the Sprint backlog',\n",
       " ' More than Two Product owners for the project',\n",
       " ' The development team selects the items to be worked on the Sprint backlog',\n",
       " ' The events of Scrum',\n",
       " ' Less than three developers per team',\n",
       " ' Option for virtual presence on daily meetings',\n",
       " ' The option to have a Scrum Master',\n",
       " ' Definitions on how to track Sprint Progress ',\n",
       " ' Definition of the number of Product Owners',\n",
       " ' Root Node Scrum Definitions',\n",
       " ' Definition of the Sprint lenght',\n",
       " ' Effort estimate using the Planning Poker technique',\n",
       " ' What roles are there in the development team',\n",
       " ' Definition on Daily meeting frequency',\n",
       " ' 7 days Sprint ',\n",
       " ' Prioritization done by the Development Team in the absence of a Product Owner',\n",
       " ' Option for virtual presence on daily meetings',\n",
       " ' Representation of the items on the Product Backlog by User Stories',\n",
       " ' Option for virtual presence on daily meetings',\n",
       " ' Three hours long sprint planning',\n",
       " ' Daily meeting three times a week',\n",
       " ' Sprint Planning one week prior',\n",
       " ' Estimate made by the Development Team in the absence of a Product Owner',\n",
       " ' Activity 12 of the Development team',\n",
       " ' 7 days Sprint',\n",
       " ' Status Option for an item on the Sprint Backlog',\n",
       " ' Activity 10 of the Development team',\n",
       " ' Activity 11 of the Development team',\n",
       " ' More than 9 developers in team size',\n",
       " ' Representation of the items in the product backlog',\n",
       " ' Composition of the Product Owner',\n",
       " ' Prioritization done using Level of Effort points',\n",
       " ' physical development team presence',\n",
       " ' Type of presence of the development team',\n",
       " ' Number of people in the development team',\n",
       " ' Time of the Daily Meeting',\n",
       " ' Composition 10 of the Product owner',\n",
       " ' Definitions on how to prioritize the Product Backlog',\n",
       " ' Time of the Review Planning',\n",
       " ' Definitions of the Sprint Review Meeting',\n",
       " ' Sixteen hours long sprint planning',\n",
       " ' Composition 1 of the Product owner',\n",
       " ' Time of the Sprint Planning Meeting',\n",
       " ' 28 days Sprint ',\n",
       " ' Composition 2 of the Product owner',\n",
       " ' Two hours long sprint planning',\n",
       " ' Composition 4 of the Product owner',\n",
       " ' Composition 5 of the Product owner',\n",
       " ' Composition 6 of the Product owner',\n",
       " ' Definitions of the Development Team',\n",
       " ' Composition 7 of the Product owner',\n",
       " ' Composition 8 of the Product owner',\n",
       " ' Composition 9 of the Product owner',\n",
       " '  4 to 5 developers in team size',\n",
       " ' Increment as an Artifact',\n",
       " ' Definitions of the Scrum Team',\n",
       " ' Definitions on Project Owner Presence',\n",
       " ' Option of a daily meeting to discuss what has been achieved',\n",
       " ' 56 days Sprint ',\n",
       " ' Root Node Mandatory',\n",
       " ' 5 minutes Daily meeting',\n",
       " ' Activities of the Project Owner',\n",
       " ' 14 days Sprint ',\n",
       " ' Activities of the Development Team',\n",
       " ' Presence 1 of the Product owner',\n",
       " ' Representation of the items on the Product Backlog by Use Cases',\n",
       " ' Presence 2 of the Product owner',\n",
       " ' Activity 11 of the Product owner',\n",
       " ' Status Option for an item on the Sprint Backlog',\n",
       " ' Activity 13 of the Product owner',\n",
       " ' Type of presence in the meetings',\n",
       " ' Activity 14 of the Product owner',\n",
       " ' 15 minutes Daily meeting',\n",
       " ' Time of the Review',\n",
       " ' 15 to 20 minutes Daily meeting',\n",
       " ' Definitons of the Product Backlog',\n",
       " ' Prioritization done by the Development Team in the absence of a Product Owner and Scrum Master',\n",
       " ' Activity 8 of the Development team',\n",
       " ' Status Option for an item on the Sprint Backlog',\n",
       " ' Activity 7 of the Development team',\n",
       " ' role on the development team',\n",
       " ' Activity 6 of the Development team',\n",
       " ' Prioritization done by the Requirements Refinement strategy',\n",
       " ' Activity 5 of the Development team',\n",
       " ' Activity 3 of the Development team',\n",
       " ' Activity 2 of the Development team',\n",
       " ' Definitions on the Role of the Product Owner']"
      ]
     },
     "execution_count": 23,
     "metadata": {},
     "output_type": "execute_result"
    }
   ],
   "source": [
    "df['sentence'].tolist()"
   ]
  },
  {
   "cell_type": "code",
   "execution_count": 27,
   "metadata": {},
   "outputs": [],
   "source": [
    "from collections import defaultdict\n",
    "from random import randint\n",
    "\n",
    "#23 Groups\n",
    "#10 students per group\n",
    "#130 students\n",
    "#total keys = 2990\n",
    "dict = defaultdict(list)\n",
    "alphabet = list(map(chr, range(97, 123)))\n",
    "for letter in alphabet:\n",
    "    for i in range(130):\n",
    "        key = letter + str(randint(100000, 999999))\n",
    "        dict[letter].append(key)\n",
    "        \n",
    "    "
   ]
  },
  {
   "cell_type": "code",
   "execution_count": 29,
   "metadata": {},
   "outputs": [],
   "source": [
    "df = pd.DataFrame.from_dict(dict)"
   ]
  },
  {
   "cell_type": "code",
   "execution_count": 30,
   "metadata": {},
   "outputs": [
    {
     "data": {
      "text/html": [
       "<div>\n",
       "<style scoped>\n",
       "    .dataframe tbody tr th:only-of-type {\n",
       "        vertical-align: middle;\n",
       "    }\n",
       "\n",
       "    .dataframe tbody tr th {\n",
       "        vertical-align: top;\n",
       "    }\n",
       "\n",
       "    .dataframe thead th {\n",
       "        text-align: right;\n",
       "    }\n",
       "</style>\n",
       "<table border=\"1\" class=\"dataframe\">\n",
       "  <thead>\n",
       "    <tr style=\"text-align: right;\">\n",
       "      <th></th>\n",
       "      <th>a</th>\n",
       "      <th>b</th>\n",
       "      <th>c</th>\n",
       "      <th>d</th>\n",
       "      <th>e</th>\n",
       "      <th>f</th>\n",
       "      <th>g</th>\n",
       "      <th>h</th>\n",
       "      <th>i</th>\n",
       "      <th>j</th>\n",
       "      <th>...</th>\n",
       "      <th>q</th>\n",
       "      <th>r</th>\n",
       "      <th>s</th>\n",
       "      <th>t</th>\n",
       "      <th>u</th>\n",
       "      <th>v</th>\n",
       "      <th>w</th>\n",
       "      <th>x</th>\n",
       "      <th>y</th>\n",
       "      <th>z</th>\n",
       "    </tr>\n",
       "  </thead>\n",
       "  <tbody>\n",
       "    <tr>\n",
       "      <th>0</th>\n",
       "      <td>a235725</td>\n",
       "      <td>b742437</td>\n",
       "      <td>c115381</td>\n",
       "      <td>d467686</td>\n",
       "      <td>e356730</td>\n",
       "      <td>f376064</td>\n",
       "      <td>g627193</td>\n",
       "      <td>h448248</td>\n",
       "      <td>i988185</td>\n",
       "      <td>j416803</td>\n",
       "      <td>...</td>\n",
       "      <td>q253931</td>\n",
       "      <td>r643061</td>\n",
       "      <td>s671615</td>\n",
       "      <td>t774628</td>\n",
       "      <td>u620048</td>\n",
       "      <td>v297808</td>\n",
       "      <td>w819480</td>\n",
       "      <td>x542871</td>\n",
       "      <td>y869958</td>\n",
       "      <td>z593907</td>\n",
       "    </tr>\n",
       "    <tr>\n",
       "      <th>1</th>\n",
       "      <td>a534877</td>\n",
       "      <td>b998601</td>\n",
       "      <td>c872097</td>\n",
       "      <td>d488025</td>\n",
       "      <td>e685121</td>\n",
       "      <td>f711377</td>\n",
       "      <td>g431664</td>\n",
       "      <td>h187314</td>\n",
       "      <td>i769116</td>\n",
       "      <td>j910319</td>\n",
       "      <td>...</td>\n",
       "      <td>q232079</td>\n",
       "      <td>r517877</td>\n",
       "      <td>s917945</td>\n",
       "      <td>t216146</td>\n",
       "      <td>u975662</td>\n",
       "      <td>v922036</td>\n",
       "      <td>w562975</td>\n",
       "      <td>x541257</td>\n",
       "      <td>y286662</td>\n",
       "      <td>z102884</td>\n",
       "    </tr>\n",
       "    <tr>\n",
       "      <th>2</th>\n",
       "      <td>a626139</td>\n",
       "      <td>b965405</td>\n",
       "      <td>c812943</td>\n",
       "      <td>d930169</td>\n",
       "      <td>e649444</td>\n",
       "      <td>f848289</td>\n",
       "      <td>g169733</td>\n",
       "      <td>h252477</td>\n",
       "      <td>i967804</td>\n",
       "      <td>j299249</td>\n",
       "      <td>...</td>\n",
       "      <td>q548144</td>\n",
       "      <td>r250012</td>\n",
       "      <td>s867022</td>\n",
       "      <td>t331341</td>\n",
       "      <td>u274613</td>\n",
       "      <td>v515537</td>\n",
       "      <td>w613892</td>\n",
       "      <td>x460569</td>\n",
       "      <td>y288358</td>\n",
       "      <td>z934205</td>\n",
       "    </tr>\n",
       "    <tr>\n",
       "      <th>3</th>\n",
       "      <td>a880553</td>\n",
       "      <td>b184775</td>\n",
       "      <td>c889609</td>\n",
       "      <td>d473103</td>\n",
       "      <td>e284893</td>\n",
       "      <td>f679385</td>\n",
       "      <td>g892618</td>\n",
       "      <td>h103518</td>\n",
       "      <td>i408572</td>\n",
       "      <td>j983111</td>\n",
       "      <td>...</td>\n",
       "      <td>q826125</td>\n",
       "      <td>r598633</td>\n",
       "      <td>s262625</td>\n",
       "      <td>t500251</td>\n",
       "      <td>u658836</td>\n",
       "      <td>v464221</td>\n",
       "      <td>w765641</td>\n",
       "      <td>x263684</td>\n",
       "      <td>y380445</td>\n",
       "      <td>z770980</td>\n",
       "    </tr>\n",
       "    <tr>\n",
       "      <th>4</th>\n",
       "      <td>a485550</td>\n",
       "      <td>b453115</td>\n",
       "      <td>c822361</td>\n",
       "      <td>d107100</td>\n",
       "      <td>e353515</td>\n",
       "      <td>f258534</td>\n",
       "      <td>g723276</td>\n",
       "      <td>h583520</td>\n",
       "      <td>i794302</td>\n",
       "      <td>j180020</td>\n",
       "      <td>...</td>\n",
       "      <td>q348346</td>\n",
       "      <td>r406365</td>\n",
       "      <td>s800467</td>\n",
       "      <td>t778796</td>\n",
       "      <td>u564272</td>\n",
       "      <td>v927906</td>\n",
       "      <td>w151573</td>\n",
       "      <td>x918383</td>\n",
       "      <td>y869397</td>\n",
       "      <td>z129303</td>\n",
       "    </tr>\n",
       "  </tbody>\n",
       "</table>\n",
       "<p>5 rows × 26 columns</p>\n",
       "</div>"
      ],
      "text/plain": [
       "         a        b        c        d        e        f        g        h  \\\n",
       "0  a235725  b742437  c115381  d467686  e356730  f376064  g627193  h448248   \n",
       "1  a534877  b998601  c872097  d488025  e685121  f711377  g431664  h187314   \n",
       "2  a626139  b965405  c812943  d930169  e649444  f848289  g169733  h252477   \n",
       "3  a880553  b184775  c889609  d473103  e284893  f679385  g892618  h103518   \n",
       "4  a485550  b453115  c822361  d107100  e353515  f258534  g723276  h583520   \n",
       "\n",
       "         i        j  ...        q        r        s        t        u  \\\n",
       "0  i988185  j416803  ...  q253931  r643061  s671615  t774628  u620048   \n",
       "1  i769116  j910319  ...  q232079  r517877  s917945  t216146  u975662   \n",
       "2  i967804  j299249  ...  q548144  r250012  s867022  t331341  u274613   \n",
       "3  i408572  j983111  ...  q826125  r598633  s262625  t500251  u658836   \n",
       "4  i794302  j180020  ...  q348346  r406365  s800467  t778796  u564272   \n",
       "\n",
       "         v        w        x        y        z  \n",
       "0  v297808  w819480  x542871  y869958  z593907  \n",
       "1  v922036  w562975  x541257  y286662  z102884  \n",
       "2  v515537  w613892  x460569  y288358  z934205  \n",
       "3  v464221  w765641  x263684  y380445  z770980  \n",
       "4  v927906  w151573  x918383  y869397  z129303  \n",
       "\n",
       "[5 rows x 26 columns]"
      ]
     },
     "execution_count": 30,
     "metadata": {},
     "output_type": "execute_result"
    }
   ],
   "source": [
    "df.head()"
   ]
  },
  {
   "cell_type": "code",
   "execution_count": 32,
   "metadata": {},
   "outputs": [],
   "source": [
    "df.to_csv('keys.csv',index=False)"
   ]
  },
  {
   "cell_type": "code",
   "execution_count": null,
   "metadata": {},
   "outputs": [],
   "source": []
  }
 ],
 "metadata": {
  "kernelspec": {
   "display_name": "Python 3",
   "language": "python",
   "name": "python3"
  },
  "language_info": {
   "codemirror_mode": {
    "name": "ipython",
    "version": 3
   },
   "file_extension": ".py",
   "mimetype": "text/x-python",
   "name": "python",
   "nbconvert_exporter": "python",
   "pygments_lexer": "ipython3",
   "version": "3.7.3"
  }
 },
 "nbformat": 4,
 "nbformat_minor": 4
}
