{
 "cells": [
  {
   "cell_type": "code",
   "execution_count": 1,
   "metadata": {},
   "outputs": [],
   "source": [
    "import pycosat\n",
    "import secrets\n",
    "import math"
   ]
  },
  {
   "cell_type": "code",
   "execution_count": 2,
   "metadata": {},
   "outputs": [],
   "source": [
    "file = open(\"Scrum.dimacs\")"
   ]
  },
  {
   "cell_type": "code",
   "execution_count": 3,
   "metadata": {},
   "outputs": [],
   "source": [
    "lines = file.readlines()"
   ]
  },
  {
   "cell_type": "code",
   "execution_count": 4,
   "metadata": {},
   "outputs": [],
   "source": [
    "dimacs = lines[125:]"
   ]
  },
  {
   "cell_type": "code",
   "execution_count": 5,
   "metadata": {},
   "outputs": [
    {
     "data": {
      "text/plain": [
       "255"
      ]
     },
     "execution_count": 5,
     "metadata": {},
     "output_type": "execute_result"
    }
   ],
   "source": [
    "len(dimacs)"
   ]
  },
  {
   "cell_type": "code",
   "execution_count": 6,
   "metadata": {},
   "outputs": [],
   "source": [
    "cnf = [[int(s)  for s in line.split(' ') if int(s) != 0] for line in dimacs]"
   ]
  },
  {
   "cell_type": "code",
   "execution_count": 8,
   "metadata": {},
   "outputs": [
    {
     "name": "stdout",
     "output_type": "stream",
     "text": [
      "10000\n"
     ]
    }
   ],
   "source": [
    "solutions = []\n",
    "i = 0\n",
    "for sol in pycosat.itersolve(cnf):\n",
    "    if i == 10000:\n",
    "        break\n",
    "    i += 1\n",
    "    solutions.append(sol)\n",
    "print(i)"
   ]
  },
  {
   "cell_type": "code",
   "execution_count": 9,
   "metadata": {},
   "outputs": [],
   "source": [
    "class Item:\n",
    "    def __init__(self, item):\n",
    "        self.r = -1\n",
    "        self.d = -1\n",
    "        self.theta = -1\n",
    "        self.item = item\n",
    "        self.features = sum(item)\n",
    "        self.totalcost = secrets.randbelow(100)\n",
    "        self.knowndefects = secrets.randbelow(100)\n",
    "        self.featuresused = secrets.randbelow(self.features)"
   ]
  },
  {
   "cell_type": "code",
   "execution_count": 14,
   "metadata": {},
   "outputs": [],
   "source": [
    "binary_solutions = [[1 if val > 0 else 0 for val in sol] for sol in solutions]\n",
    "\n",
    "items = [Item(item) for item in binary_solutions]\n",
    "max_features = -math.inf\n",
    "min_features = math.inf\n",
    "max_totalcost = -math.inf\n",
    "min_totalcost = math.inf\n",
    "max_known = -math.inf\n",
    "min_known = math.inf\n",
    "max_featuresused = -math.inf\n",
    "min_featuresused = math.inf\n",
    "\n",
    "for x in items:\n",
    "    if x.features > max_features:\n",
    "        max_features = x.features\n",
    "    if x.features < min_features:\n",
    "        min_features = x.features\n",
    "    if x.totalcost > max_totalcost:\n",
    "        max_totalcost = x.totalcost\n",
    "    if x.totalcost < min_totalcost:\n",
    "        min_totalcost = x.totalcost\n",
    "    if x.knowndefects > max_known:\n",
    "        max_known = x.knowndefects\n",
    "    if x.knowndefects < min_known:\n",
    "        min_known = x.knowndefects\n",
    "    if x.featuresused > max_featuresused:\n",
    "        max_featuresused = x.featuresused\n",
    "    if x.featuresused < min_featuresused:\n",
    "        min_featuresused = x.featuresused"
   ]
  },
  {
   "cell_type": "code",
   "execution_count": 15,
   "metadata": {},
   "outputs": [
    {
     "name": "stdout",
     "output_type": "stream",
     "text": [
      "0\n",
      "1\n",
      "2\n",
      "3\n",
      "4\n",
      "5\n",
      "6\n",
      "7\n",
      "8\n",
      "9\n"
     ]
    }
   ],
   "source": [
    "total_group = 10\n",
    "west = []\n",
    "east = []\n",
    "westItems = []\n",
    "eastItems = []\n",
    "rand = secrets.choice(items)\n",
    "max_r = -math.inf\n",
    "min_r = math.inf\n",
    "for x in items:\n",
    "    x.r = sum(x.item)\n",
    "    x.d = sum([a_i - b_i for a_i, b_i in zip(x.item, rand.item)])\n",
    "    if x.r > max_r:\n",
    "        max_r = x.r\n",
    "    if x.r < min_r:\n",
    "        min_r = x.r\n",
    "for x in items:\n",
    "    x.r = (x.r - min_r)/(max_r - min_r)\n",
    "R = set([r.r for r in items])\n",
    "for k in R:\n",
    "    g = [item for item in items if item.r == k]\n",
    "    g.sort(key=lambda x: x.d, reverse=True)\n",
    "    for i in range(len(g)):\n",
    "        g[i].theta = (2*math.pi*(i+1))/len(g)\n",
    "thk = max_r / total_group\n",
    "for a in range(total_group):\n",
    "    g = [i for i in items if (a*thk)<= i.r <= ((a+1)*thk)]\n",
    "    print(a)\n",
    "    g.sort(key=lambda x: x.theta)\n",
    "    if len(g) > 0:\n",
    "        east.append(g[0])\n",
    "        west.append(g[len(g)-1])\n",
    "        for i in g:\n",
    "            if i.theta <= math.pi:\n",
    "                eastItems.append(i)\n",
    "            else:\n",
    "                westItems.append(i)"
   ]
  },
  {
   "cell_type": "code",
   "execution_count": 56,
   "metadata": {},
   "outputs": [],
   "source": [
    "def split_bin(items, total_group):\n",
    "    west = []\n",
    "    east = []\n",
    "    westItems = []\n",
    "    eastItems = []\n",
    "    rand = secrets.choice(items)\n",
    "    max_r = -math.inf\n",
    "    min_r = math.inf\n",
    "    for x in items:\n",
    "        x.r = sum(x.item)\n",
    "        x.d = sum([a_i - b_i for a_i, b_i in zip(x.item, rand.item)])\n",
    "        if x.r > max_r:\n",
    "            max_r = x.r\n",
    "        if x.r < min_r:\n",
    "            min_r = x.r\n",
    "    for x in items:\n",
    "        x.r = (x.r - min_r)/(max_r - min_r + 10**(-32))\n",
    "    R = set([r.r for r in items])\n",
    "    for k in R:\n",
    "        g = [item for item in items if item.r == k]\n",
    "        g.sort(key=lambda x: x.d, reverse=True)\n",
    "        for i in range(len(g)):\n",
    "            g[i].theta = (2*math.pi*(i+1))/len(g)\n",
    "    thk = max_r / total_group\n",
    "    for a in range(total_group):\n",
    "        g = [i for i in items if (a*thk)<= i.r <= ((a+1)*thk)]\n",
    "        print(a)\n",
    "        g.sort(key=lambda x: x.theta)\n",
    "        if len(g) > 0:\n",
    "            east.append(g[0])\n",
    "            west.append(g[len(g)-1])\n",
    "            for i in g:\n",
    "                if i.theta <= math.pi:\n",
    "                    eastItems.append(i)\n",
    "                else:\n",
    "                    westItems.append(i)\n",
    "    return west, east, west_items, east_items"
   ]
  },
  {
   "cell_type": "code",
   "execution_count": 58,
   "metadata": {},
   "outputs": [],
   "source": [
    "def better():\n",
    "    what = 1\n",
    "    return what"
   ]
  },
  {
   "cell_type": "code",
   "execution_count": 59,
   "metadata": {},
   "outputs": [],
   "source": [
    "def sway(items, enough):\n",
    "    if len(items) < enough:\n",
    "        return items\n",
    "    delta1, delta2 = [], []\n",
    "    west, east, west_items, east_items = split_bin(items, 10)\n",
    "    if not better(west, east):\n",
    "        delta1 = sway(east_items)\n",
    "    if not better(east, west):\n",
    "        delta2 = sway(west_items)\n",
    "    return delta1+delta2"
   ]
  },
  {
   "cell_type": "code",
   "execution_count": null,
   "metadata": {},
   "outputs": [],
   "source": [
    "def itemDom(west, east):\n",
    "    n = 4\n",
    "    s1 = 0.0\n",
    "    s2 = 0.0\n",
    "    westfeatures   = (west.features - min_features)\n",
    "    y   = i.rows[r2][c]\n",
    "    x   = NumNorm(i.cols[c], x)\n",
    "    y   = NumNorm(i.cols[c], y)\n",
    "    s1 -= 2.72 ^ ( i.cols[c].w * (x - y)/n )\n",
    "    s2 -= 2.72 ^ ( i.cols[c].w * (y - x)/n )\n",
    "  \n",
    "  return s1/n < s2/n\n"
   ]
  }
 ],
 "metadata": {
  "kernelspec": {
   "display_name": "Python 3",
   "language": "python",
   "name": "python3"
  },
  "language_info": {
   "codemirror_mode": {
    "name": "ipython",
    "version": 3
   },
   "file_extension": ".py",
   "mimetype": "text/x-python",
   "name": "python",
   "nbconvert_exporter": "python",
   "pygments_lexer": "ipython3",
   "version": "3.7.4"
  }
 },
 "nbformat": 4,
 "nbformat_minor": 4
}
