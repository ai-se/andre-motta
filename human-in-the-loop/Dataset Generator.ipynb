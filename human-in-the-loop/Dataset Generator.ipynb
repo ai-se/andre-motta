{
 "cells": [
  {
   "cell_type": "code",
   "execution_count": 1,
   "metadata": {},
   "outputs": [],
   "source": [
    "import numpy as np\n",
    "import pandas as pd\n",
    "import csv"
   ]
  },
  {
   "cell_type": "code",
   "execution_count": 2,
   "metadata": {},
   "outputs": [
    {
     "name": "stdout",
     "output_type": "stream",
     "text": [
      "[6, 4, 7, 0, 9, 2, 1, 0, 2, 7, 6, 0, 5, 4, 0, 7, 1, 9, 5, 6, 8, 9, 4, 1, 5, 0, 6, 7, 6, 9, 1, 4, 6, 4, 1, 8, 0, 1, 6, 9, 4, 5, 0, 7, 5, 4, 3, 5, 0, 4, 0, 5, 5, 5, 6, 2, 4, 9, 3, 1, 0, 9, 6, 6, 5, 4, 3, 1, 7, 0, 8, 3, 4, 9, 6, 3, 3, 3, 4, 7, 9, 2, 5, 3, 3, 3, 8, 4, 2, 4, 0, 5, 6, 6, 0, 6, 9, 3, 6, 1, 9, 9, 7, 1, 6, 6, 1, 4, 9, 6, 2, 8, 5, 4, 7, 7, 4, 7, 0, 2, 7, 3, 5, 0]\n"
     ]
    }
   ],
   "source": [
    "from __method__ import Method"
   ]
  },
  {
   "cell_type": "code",
   "execution_count": 3,
   "metadata": {},
   "outputs": [],
   "source": [
    "def read_names(filename, features):\n",
    "    file = open(filename)\n",
    "    lines = file.readlines()\n",
    "    names = []\n",
    "    for line in lines[:features]:\n",
    "        names.append(line.split(' ')[2][:-1])\n",
    "    return names"
   ]
  },
  {
   "cell_type": "code",
   "execution_count": 4,
   "metadata": {},
   "outputs": [],
   "source": [
    "folder = 'CSVModels/'\n",
    "filename = 'FFM-1000-200-0.50-SAT-1.csv'\n",
    "dimacs = 'IncreasingF/FFM-1000-200-0.50-SAT-1.dimacs'\n",
    "out_folder = 'TimModels/'\n",
    "outfile = 'FFM-1000-200-0.50-SAT-1.csv'\n",
    "features = 1044"
   ]
  },
  {
   "cell_type": "code",
   "execution_count": 5,
   "metadata": {},
   "outputs": [
    {
     "name": "stdout",
     "output_type": "stream",
     "text": [
      "14 Total number of important questions\n"
     ]
    }
   ],
   "source": [
    "m = Method(folder+filename)\n",
    "values = np.array([x.item for x in m.items])\n",
    "parameters = np.array([[self.totalcost, self.knowndefects, self.featuresused] for self in m.items])\n",
    "final = np.hstack((values, parameters))"
   ]
  },
  {
   "cell_type": "code",
   "execution_count": 6,
   "metadata": {},
   "outputs": [],
   "source": [
    "names = read_names(dimacs, features)"
   ]
  },
  {
   "cell_type": "code",
   "execution_count": 7,
   "metadata": {},
   "outputs": [],
   "source": [
    "columns = names + ['cost-', 'defects-', 'featuresused+']"
   ]
  },
  {
   "cell_type": "code",
   "execution_count": 8,
   "metadata": {},
   "outputs": [],
   "source": [
    "with open(out_folder + outfile, 'w', newline='') as csvfile:\n",
    "    writer = csv.writer(csvfile)\n",
    "    writer.writerow(columns)\n",
    "    for f in final:\n",
    "        writer.writerow(f)"
   ]
  },
  {
   "cell_type": "code",
   "execution_count": 3,
   "metadata": {},
   "outputs": [],
   "source": [
    "costs = [6, 4, 7, 0, 9, 2, 1, 0, 2, 7, 6, 0, 5, 4, 0, 7, 1, 9, 5, 6, 8, 9, 4, 1, 5, 0, 6, 7, 6, 9, 1, 4, 6, 4, 1, 8, 0, 1, 6, 9, 4, 5, 0, 7, 5, 4, 3, 5, 0, 4, 0, 5, 5, 5, 6, 2, 4, 9, 3, 1, 0, 9, 6, 6, 5, 4, 3, 1, 7, 0, 8, 3, 4, 9, 6, 3, 3, 3, 4, 7, 9, 2, 5, 3, 3, 3, 8, 4, 2, 4, 0, 5, 6, 6, 0, 6, 9, 3, 6, 1, 9, 9, 7, 1, 6, 6, 1, 4, 9, 6, 2, 8, 5, 4, 7, 7, 4, 7, 0, 2, 7, 3, 5, 0]"
   ]
  },
  {
   "cell_type": "code",
   "execution_count": 4,
   "metadata": {},
   "outputs": [
    {
     "data": {
      "text/plain": [
       "Counter({6: 18, 4: 17, 7: 12, 0: 15, 9: 13, 2: 7, 1: 11, 5: 14, 8: 5, 3: 12})"
      ]
     },
     "execution_count": 4,
     "metadata": {},
     "output_type": "execute_result"
    }
   ],
   "source": [
    "from collections import Counter\n",
    "Counter(costs)"
   ]
  },
  {
   "cell_type": "code",
   "execution_count": null,
   "metadata": {},
   "outputs": [],
   "source": []
  }
 ],
 "metadata": {
  "kernelspec": {
   "display_name": "Python 3",
   "language": "python",
   "name": "python3"
  },
  "language_info": {
   "codemirror_mode": {
    "name": "ipython",
    "version": 3
   },
   "file_extension": ".py",
   "mimetype": "text/x-python",
   "name": "python",
   "nbconvert_exporter": "python",
   "pygments_lexer": "ipython3",
   "version": "3.7.3"
  }
 },
 "nbformat": 4,
 "nbformat_minor": 2
}
